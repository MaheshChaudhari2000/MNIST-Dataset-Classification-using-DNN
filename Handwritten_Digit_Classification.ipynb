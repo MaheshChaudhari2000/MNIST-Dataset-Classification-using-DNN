{
 "cells": [
  {
   "cell_type": "code",
   "execution_count": 1,
   "id": "a524bd19",
   "metadata": {},
   "outputs": [
    {
     "name": "stdout",
     "output_type": "stream",
     "text": [
      "(60000, 28, 28)\n",
      "\n",
      "(60000,)\n",
      "\n"
     ]
    },
    {
     "data": {
      "image/png": "[encoded data removed]",
      "text/plain": [
       "<Figure size 432x288 with 1 Axes>"
      ]
     },
     "metadata": {
      "needs_background": "light"
     },
     "output_type": "display_data"
    },
    {
     "name": "stdout",
     "output_type": "stream",
     "text": [
      "\n",
      "Epoch 1/3\n",
      "1875/1875 [==============================] - 7s 2ms/step - loss: 1.5985 - accuracy: 0.8738\n",
      "Epoch 2/3\n",
      "1875/1875 [==============================] - 3s 2ms/step - loss: 1.5143 - accuracy: 0.9489\n",
      "Epoch 3/3\n",
      "1875/1875 [==============================] - 3s 2ms/step - loss: 1.5024 - accuracy: 0.9604\n"
     ]
    },
    {
     "data": {
      "text/plain": [
       "<keras.callbacks.History at 0x1a562924490>"
      ]
     },
     "execution_count": 1,
     "metadata": {},
     "output_type": "execute_result"
    }
   ],
   "source": [
    "import tensorflow as tf\n",
    "import matplotlib.pyplot as plt\n",
    "\n",
    "mnist = tf.keras.datasets.mnist # 28x28 pixel images from 0-9\n",
    "# The MNIST dataset is an acronym that stands for the Modified National Institute of Standards and Technology dataset. \n",
    "# It is a dataset of 60,000 small square 28×28 pixel grayscale images of handwritten single digits between 0 and 9.\n",
    "\n",
    "(x_train,y_train), (x_test, y_test) = mnist.load_data()\n",
    "print(x_train.shape)\n",
    "print('')\n",
    "print(y_train.shape)\n",
    "print('')\n",
    "\n",
    "#Normaliszation of train and test data (bring them between 0 and 1)\n",
    "x_train = tf.keras.utils.normalize(x_train, axis = 1)\n",
    "x_test = tf.keras.utils.normalize(x_test, axis = 1)\n",
    "\n",
    "plt.imshow(x_train[0], cmap = plt.cm.binary)\n",
    "plt.show()\n",
    "print('')\n",
    "\n",
    "# Creating models\n",
    "model = tf.keras.models.Sequential()\n",
    "\n",
    "# Now the image pixels are in 28x28 multidimentional shape. We want them to be in one dimentional array. \n",
    "# One way to do that is using numpy array and reshape the 2D array into 1D and the other method is used below.\n",
    "model.add(tf.keras.layers.Flatten())\n",
    "\n",
    "# Creating hidden layers\n",
    "model.add(tf.keras.layers.Dense(128, activation = tf.nn.relu))  # 128 neurons in the hidden layer 1\n",
    "model.add(tf.keras.layers.Dense(128, activation = tf.nn.relu))  # 128 neurons in the hidden layer 2\n",
    "model.add(tf.keras.layers.Dense(10, activation = tf.nn.softmax))  # Output layer, i.e. number of classifications (softmax for probability distribution)\n",
    "\n",
    "# Adding optimizer, loss funtion, and metrics we want to track \n",
    "model.compile(optimizer = 'adam',\n",
    "              loss = tf.keras.losses.SparseCategoricalCrossentropy(from_logits=True),\n",
    "              metrics = 'accuracy')\n",
    "\n",
    "# Train the model by fitting the train data\n",
    "# An epoch means training the neural network with all the training data for one cycle. \n",
    "# In an epoch, we use all of the data exactly once. A forward pass and a backward pass together are counted as one pass: \n",
    "# An epoch is made up of one or more batches, where we use a part of the dataset to train the neural network.\n",
    "model.fit(x_train,y_train, epochs = 3)\n"
   ]
  },
  {
   "cell_type": "code",
   "execution_count": 2,
   "id": "4527bc72",
   "metadata": {},
   "outputs": [
    {
     "name": "stdout",
     "output_type": "stream",
     "text": [
      "INFO:tensorflow:Assets written to: handwritten_digit_classification\\assets\n",
      "313/313 [==============================] - 2s 1ms/step\n",
      "[[1.5585919e-15 1.7320660e-18 7.9363671e-10 ... 1.0000000e+00\n",
      "  1.4745134e-16 2.5618401e-14]\n",
      " [1.1585892e-12 1.2897585e-16 1.0000000e+00 ... 2.8162653e-23\n",
      "  3.1427128e-11 1.5077904e-21]\n",
      " [1.1443377e-16 9.9999988e-01 7.0627293e-12 ... 7.2147756e-08\n",
      "  4.1778123e-09 3.9474083e-13]\n",
      " ...\n",
      " [3.4441651e-16 1.7161912e-14 1.4718732e-13 ... 4.4323443e-08\n",
      "  3.1682642e-08 1.2277281e-05]\n",
      " [3.1787677e-16 5.7564439e-16 2.3779550e-16 ... 1.2103808e-19\n",
      "  2.0821737e-10 2.8526687e-17]\n",
      " [1.5849823e-11 1.2485108e-13 2.7639211e-09 ... 4.2102472e-18\n",
      "  4.0336854e-14 3.5758292e-14]]\n"
     ]
    }
   ],
   "source": [
    "# Saving model for predictions\n",
    "model.save('handwritten_digit_classification')\n",
    "\n",
    "# Load model\n",
    "new_model = tf.keras.models.load_model('handwritten_digit_classification')\n",
    "\n",
    "# Predictions on test data\n",
    "predictions = new_model.predict([x_test])\n",
    "print(predictions)"
   ]
  },
  {
   "cell_type": "code",
   "execution_count": 3,
   "id": "24c8f578",
   "metadata": {},
   "outputs": [
    {
     "name": "stdout",
     "output_type": "stream",
     "text": [
      "0\n",
      "\n"
     ]
    },
    {
     "data": {
      "image/png": "[encoded data removed]",
      "text/plain": [
       "<Figure size 432x288 with 1 Axes>"
      ]
     },
     "metadata": {
      "needs_background": "light"
     },
     "output_type": "display_data"
    }
   ],
   "source": [
    "import numpy as np\n",
    "\n",
    "print(np.argmax(predictions[3]))\n",
    "print('')\n",
    "\n",
    "plt.imshow(x_test[3])\n",
    "plt.show()"
   ]
  },
  {
   "cell_type": "code",
   "execution_count": null,
   "id": "e2be87e8",
   "metadata": {},
   "outputs": [],
   "source": [
    "### To convert the given dataset into test - train - validation set\n",
    "\n",
    "DATASET_SIZE = 60000\n",
    "TRAIN_RATIO = 0.75\n",
    "VALIDATION_RATIO = 0.15\n",
    "TEST_RATIO = 0.10\n",
    "\n",
    "X = np.concatenate([x_train, x_test])\n",
    "y = np.concatenate([y_train, y_test])\n",
    "\n",
    "X_train, X_val, y_train, y_val = train_test_split(X, y, test_size=(1-TRAIN_RATIO))\n",
    "X_val, X_test, y_val, y_test = train_test_split(X_val, y_val, test_size=((TEST_RATIO/(VALIDATION_RATIO+TEST_RATIO))))\n",
    "\n"
   ]
  },
  {
   "cell_type": "code",
   "execution_count": null,
   "id": "45e2b72c",
   "metadata": {},
   "outputs": [],
   "source": [
    "# https://www.analyticsvidhya.com/blog/2021/08/easy-hyperparameter-tuning-in-neural-networks-using-keras-tuner/"
   ]
  },
  {
   "cell_type": "markdown",
   "id": "6b734567",
   "metadata": {},
   "source": [
    "# Tuning Hyperparameters in Handwritten_Digit_Classification"
   ]
  },
  {
   "cell_type": "code",
   "execution_count": 1,
   "id": "c39c7ceb",
   "metadata": {},
   "outputs": [],
   "source": [
    "import tensorflow as tf\n",
    "import matplotlib.pyplot as plt\n",
    "from sklearn.model_selection import train_test_split\n",
    "import numpy as np\n",
    "import pandas as pd\n",
    "# import keras\n",
    "from keras.models import Sequential\n",
    "from keras.layers import Dense, Dropout, Flatten\n",
    "from keras.optimizers import *\n",
    "from scikeras.wrappers import KerasClassifier\n",
    "from keras.utils import to_categorical\n",
    "# from sklearn.model_selection import GridSearchCV\n",
    "import pprint\n",
    "pp = pprint.PrettyPrinter(indent = 4)\n",
    "\n",
    "from tensorflow import keras\n",
    "from keras_tuner import RandomSearch\n",
    "\n",
    "mnist = tf.keras.datasets.mnist # 28x28 pixel images from 0-9\n",
    "# The MNIST dataset is an acronym that stands for the Modified National Institute of Standards and Technology dataset. \n",
    "# It is a dataset of 60,000 small square 28×28 pixel grayscale images of handwritten single digits between 0 and 9.\n",
    "\n",
    "\n",
    "(x_train, y_train), (x_test, y_test) = tf.keras.datasets.mnist.load_data()\n"
   ]
  },
  {
   "cell_type": "code",
   "execution_count": 2,
   "id": "4f4cf9ee",
   "metadata": {},
   "outputs": [],
   "source": [
    "#Normaliszation of train and test data (bring them between 0 and 1)\n",
    "# Note that we normalize the data once it is split and not before splitting into train - test set\n",
    "\n",
    "x_train = tf.keras.utils.normalize(x_train, axis = 1)\n",
    "x_test = tf.keras.utils.normalize(x_test, axis = 1)"
   ]
  },
  {
   "cell_type": "code",
   "execution_count": 3,
   "id": "e4bbb626",
   "metadata": {},
   "outputs": [],
   "source": [
    "## Tuning hyperparameters\n",
    "\n",
    "def build_model(hp):\n",
    "    keras.backend.clear_session()\n",
    "    model = Sequential()\n",
    "    \n",
    "    # Now the image pixels are in 28x28 multidimentional shape. We want them to be in one dimentional array. \n",
    "    # One way to do that is using numpy array and reshape the 2D array into 1D and the other method is used below.\n",
    "    model.add(tf.keras.layers.Flatten())\n",
    "    \n",
    "    # Creating hidden layers\n",
    "    \n",
    "    #providing range for number of neurons in a hidden layer 1\n",
    "    model.add(Dense(units=hp.Int('num_of_neurons',min_value=32,max_value=128,step=32), activation=hp.Choice(\"activation\", [\"relu\", \"tanh\"])))\n",
    "        \n",
    "    #providing range for number of neurons in a hidden layer 2\n",
    "    model.add(Dense(units=hp.Int('num_of_neurons',min_value=32,max_value=128,step=32), activation=hp.Choice(\"activation\", [\"relu\", \"tanh\"])))\n",
    "    \n",
    "    #output layer\n",
    "    model.add(Dense(10,activation='softmax'))\n",
    "    \n",
    "    #compiling the model\n",
    "    model.compile(optimizer=keras.optimizers.Adam(hp.Choice('learning_rate',values=[1e-2, 1e-3, 1e-4])),loss='sparse_categorical_crossentropy',metrics=['accuracy'])\n",
    "    return model\n",
    "\n"
   ]
  },
  {
   "cell_type": "code",
   "execution_count": 4,
   "id": "02b3ca55",
   "metadata": {},
   "outputs": [
    {
     "data": {
      "text/plain": [
       "<keras.engine.sequential.Sequential at 0x1ad91410490>"
      ]
     },
     "execution_count": 4,
     "metadata": {},
     "output_type": "execute_result"
    }
   ],
   "source": [
    "import keras_tuner\n",
    "build_model(keras_tuner.HyperParameters())"
   ]
  },
  {
   "cell_type": "code",
   "execution_count": 5,
   "id": "d1ead41b",
   "metadata": {},
   "outputs": [],
   "source": [
    "#feeding the model and parameters to Random Search\n",
    "tuner=RandomSearch(build_model,\n",
    "                   objective='val_accuracy',\n",
    "                   max_trials=3,\n",
    "                   executions_per_trial=2,\n",
    "                   overwrite=True,\n",
    "                   directory='tuner1',\n",
    "                   project_name='Mnist')\n"
   ]
  },
  {
   "cell_type": "code",
   "execution_count": 6,
   "id": "b1999889",
   "metadata": {},
   "outputs": [
    {
     "name": "stdout",
     "output_type": "stream",
     "text": [
      "Search space summary\n",
      "Default search space size: 3\n",
      "num_of_neurons (Int)\n",
      "{'default': None, 'conditions': [], 'min_value': 32, 'max_value': 128, 'step': 32, 'sampling': None}\n",
      "activation (Choice)\n",
      "{'default': 'relu', 'conditions': [], 'values': ['relu', 'tanh'], 'ordered': False}\n",
      "learning_rate (Choice)\n",
      "{'default': 0.01, 'conditions': [], 'values': [0.01, 0.001, 0.0001], 'ordered': True}\n"
     ]
    }
   ],
   "source": [
    "#this tells us how many hyperparameter we are tuning\n",
    "#in our case it's 3 = neurons, activation fun, learning rate\n",
    "tuner.search_space_summary()"
   ]
  },
  {
   "cell_type": "code",
   "execution_count": 7,
   "id": "57455bfc",
   "metadata": {},
   "outputs": [
    {
     "name": "stdout",
     "output_type": "stream",
     "text": [
      "Trial 3 Complete [00h 01m 02s]\n",
      "val_accuracy: 0.9483500123023987\n",
      "\n",
      "Best val_accuracy So Far: 0.9748499989509583\n",
      "Total elapsed time: 00h 03m 07s\n",
      "INFO:tensorflow:Oracle triggered exit\n"
     ]
    }
   ],
   "source": [
    "#fitting the tuner on train dataset\n",
    "tuner.search(x_train,y_train, epochs=8, validation_data=(x_test,y_test))"
   ]
  },
  {
   "cell_type": "code",
   "execution_count": 8,
   "id": "ca97c18f",
   "metadata": {},
   "outputs": [
    {
     "name": "stdout",
     "output_type": "stream",
     "text": [
      "Results summary\n",
      "Results in tuner1\\Mnist\n",
      "Showing 10 best trials\n",
      "<keras_tuner.engine.objective.Objective object at 0x000001AD9683B580>\n",
      "Trial summary\n",
      "Hyperparameters:\n",
      "num_of_neurons: 96\n",
      "activation: tanh\n",
      "learning_rate: 0.001\n",
      "Score: 0.9748499989509583\n",
      "Trial summary\n",
      "Hyperparameters:\n",
      "num_of_neurons: 64\n",
      "activation: tanh\n",
      "learning_rate: 0.001\n",
      "Score: 0.9718500077724457\n",
      "Trial summary\n",
      "Hyperparameters:\n",
      "num_of_neurons: 64\n",
      "activation: relu\n",
      "learning_rate: 0.0001\n",
      "Score: 0.9483500123023987\n"
     ]
    }
   ],
   "source": [
    "tuner.results_summary()"
   ]
  },
  {
   "cell_type": "code",
   "execution_count": 23,
   "id": "6364d719",
   "metadata": {},
   "outputs": [],
   "source": [
    "# Let’s tune some more parameters in the next code. Here we are also providing the range of the number of layers to be used in the model which is between 2 to 10.\n",
    "\n",
    "def build_model(hp):                 #hp means hyper parameters\n",
    "    model=Sequential()\n",
    "    model.add(tf.keras.layers.Flatten())\n",
    "    \n",
    "    #providing the range for hidden layers  \n",
    "    for i in range(hp.Int('num_of_layers',2,8)):\n",
    "        \n",
    "        if hp.Boolean(\"dropout\"):\n",
    "            model.add(Dropout(rate=0.25))\n",
    "        \n",
    "        #providing range for number of neurons in hidden layers\n",
    "        model.add(Dense(units=hp.Int('num_of_neurons'+ str(i),min_value=32,max_value=128,step=32),activation=hp.Choice(\"activation\", [\"relu\", \"tanh\"])))\n",
    "        \n",
    "    \n",
    "    #output layer\n",
    "    model.add(Dense(10,activation='softmax'))    \n",
    "    \n",
    "    #compiling the model\n",
    "    model.compile(optimizer=keras.optimizers.Adam(hp.Choice('learning_rate',values=[1e-2, 1e-3, 1e-4])),   #tuning learning rate\n",
    "                  loss='sparse_categorical_crossentropy',metrics=['accuracy'])\n",
    "    return model"
   ]
  },
  {
   "cell_type": "code",
   "execution_count": 24,
   "id": "af37ecd7",
   "metadata": {},
   "outputs": [],
   "source": [
    "#feeding the model and parameters to Random Search\n",
    "tuner=RandomSearch(build_model,\n",
    "    objective='val_accuracy',\n",
    "    max_trials=4,\n",
    "    executions_per_trial=3,\n",
    "    overwrite=True,\n",
    "    directory='tuner2',\n",
    "    project_name='Mnist')"
   ]
  },
  {
   "cell_type": "code",
   "execution_count": 25,
   "id": "23da2d24",
   "metadata": {},
   "outputs": [
    {
     "name": "stdout",
     "output_type": "stream",
     "text": [
      "Search space summary\n",
      "Default search space size: 6\n",
      "num_of_layers (Int)\n",
      "{'default': None, 'conditions': [], 'min_value': 2, 'max_value': 8, 'step': 1, 'sampling': None}\n",
      "dropout (Boolean)\n",
      "{'default': False, 'conditions': []}\n",
      "num_of_neurons0 (Int)\n",
      "{'default': None, 'conditions': [], 'min_value': 32, 'max_value': 128, 'step': 32, 'sampling': None}\n",
      "activation (Choice)\n",
      "{'default': 'relu', 'conditions': [], 'values': ['relu', 'tanh'], 'ordered': False}\n",
      "num_of_neurons1 (Int)\n",
      "{'default': None, 'conditions': [], 'min_value': 32, 'max_value': 128, 'step': 32, 'sampling': None}\n",
      "learning_rate (Choice)\n",
      "{'default': 0.01, 'conditions': [], 'values': [0.01, 0.001, 0.0001], 'ordered': True}\n"
     ]
    }
   ],
   "source": [
    "#tells us how many hyperparameters we are tuning\n",
    "#in our case it's 4 = layers, neurons, activation function, learning rate\n",
    "tuner.search_space_summary()"
   ]
  },
  {
   "cell_type": "code",
   "execution_count": 26,
   "id": "5ff02957",
   "metadata": {},
   "outputs": [
    {
     "name": "stdout",
     "output_type": "stream",
     "text": [
      "Trial 4 Complete [00h 02m 14s]\n",
      "val_accuracy: 0.9660666783650717\n",
      "\n",
      "Best val_accuracy So Far: 0.9660666783650717\n",
      "Total elapsed time: 00h 08m 19s\n",
      "INFO:tensorflow:Oracle triggered exit\n"
     ]
    }
   ],
   "source": [
    "#fitting the tuner\n",
    "tuner.search(x_train,y_train,epochs=8,validation_data=(x_test,y_test))"
   ]
  },
  {
   "cell_type": "code",
   "execution_count": 27,
   "id": "a2714c00",
   "metadata": {},
   "outputs": [
    {
     "name": "stdout",
     "output_type": "stream",
     "text": [
      "Results summary\n",
      "Results in tuner2\\Mnist\n",
      "Showing 10 best trials\n",
      "<keras_tuner.engine.objective.Objective object at 0x000001AD98D4BCD0>\n",
      "Trial summary\n",
      "Hyperparameters:\n",
      "num_of_layers: 5\n",
      "dropout: False\n",
      "num_of_neurons0: 64\n",
      "activation: tanh\n",
      "num_of_neurons1: 64\n",
      "learning_rate: 0.001\n",
      "num_of_neurons2: 32\n",
      "num_of_neurons3: 128\n",
      "num_of_neurons4: 64\n",
      "num_of_neurons5: 96\n",
      "Score: 0.9660666783650717\n",
      "Trial summary\n",
      "Hyperparameters:\n",
      "num_of_layers: 6\n",
      "dropout: True\n",
      "num_of_neurons0: 64\n",
      "activation: relu\n",
      "num_of_neurons1: 64\n",
      "learning_rate: 0.001\n",
      "num_of_neurons2: 96\n",
      "num_of_neurons3: 32\n",
      "num_of_neurons4: 32\n",
      "num_of_neurons5: 32\n",
      "Score: 0.959933320681254\n",
      "Trial summary\n",
      "Hyperparameters:\n",
      "num_of_layers: 3\n",
      "dropout: True\n",
      "num_of_neurons0: 64\n",
      "activation: tanh\n",
      "num_of_neurons1: 96\n",
      "learning_rate: 0.0001\n",
      "num_of_neurons2: 32\n",
      "Score: 0.9255333344141642\n",
      "Trial summary\n",
      "Hyperparameters:\n",
      "num_of_layers: 6\n",
      "dropout: False\n",
      "num_of_neurons0: 64\n",
      "activation: tanh\n",
      "num_of_neurons1: 96\n",
      "learning_rate: 0.01\n",
      "num_of_neurons2: 128\n",
      "num_of_neurons3: 128\n",
      "num_of_neurons4: 96\n",
      "num_of_neurons5: 128\n",
      "Score: 0.8747666676839193\n"
     ]
    }
   ],
   "source": [
    "# Summary and the best accuracy of the model in the below code.\n",
    "tuner.results_summary()"
   ]
  },
  {
   "cell_type": "code",
   "execution_count": null,
   "id": "4ddf0571",
   "metadata": {},
   "outputs": [],
   "source": []
  }
 ],
 "metadata": {
  "kernelspec": {
   "display_name": "Python 3 (ipykernel)",
   "language": "python",
   "name": "python3"
  },
  "language_info": {
   "codemirror_mode": {
    "name": "ipython",
    "version": 3
   },
   "file_extension": ".py",
   "mimetype": "text/x-python",
   "name": "python",
   "nbconvert_exporter": "python",
   "pygments_lexer": "ipython3",
   "version": "3.9.7"
  }
 },
 "nbformat": 4,
 "nbformat_minor": 5
}
